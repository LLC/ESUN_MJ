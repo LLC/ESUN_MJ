{
 "cells": [
  {
   "cell_type": "code",
   "execution_count": 1,
   "metadata": {
    "collapsed": true
   },
   "outputs": [],
   "source": [
    "import Collobrative_Filtering as CF\n",
    "\n",
    "import pandas as pd\n",
    "import numpy as np\n",
    "import inspect\n",
    "import os"
   ]
  },
  {
   "cell_type": "code",
   "execution_count": 2,
   "metadata": {
    "collapsed": true
   },
   "outputs": [],
   "source": [
    "file_path = inspect.getfile(inspect.currentframe())\n",
    "file_direction = os.path.dirname(os.path.abspath(file_path))\n",
    "offertagging = os.path.join(file_direction, 'MJ_OFFER.xlsx')\n",
    "usertagging = os.path.join(file_direction, 'MJ_TAG.xlsx')"
   ]
  },
  {
   "cell_type": "code",
   "execution_count": 3,
   "metadata": {
    "collapsed": true
   },
   "outputs": [],
   "source": [
    "offertagging = pd.read_excel(offertagging)"
   ]
  },
  {
   "cell_type": "code",
   "execution_count": 4,
   "metadata": {
    "collapsed": true
   },
   "outputs": [],
   "source": [
    "usertagging = pd.read_excel(usertagging)\n",
    "usertagging = usertagging.groupby(['ID','UTID']).size().reset_index(name='COUNT')\n",
    "usertagging = usertagging.pivot_table(index=['ID'], columns='UTID',values ='COUNT').fillna(0)"
   ]
  },
  {
   "cell_type": "code",
   "execution_count": 5,
   "metadata": {
    "collapsed": true
   },
   "outputs": [],
   "source": [
    "model = CF.COLLOBORATIVE_FILTERING()"
   ]
  },
  {
   "cell_type": "code",
   "execution_count": 6,
   "metadata": {},
   "outputs": [
    {
     "data": {
      "text/html": [
       "<div>\n",
       "<style>\n",
       "    .dataframe thead tr:only-child th {\n",
       "        text-align: right;\n",
       "    }\n",
       "\n",
       "    .dataframe thead th {\n",
       "        text-align: left;\n",
       "    }\n",
       "\n",
       "    .dataframe tbody tr th {\n",
       "        vertical-align: top;\n",
       "    }\n",
       "</style>\n",
       "<table border=\"1\" class=\"dataframe\">\n",
       "  <thead>\n",
       "    <tr style=\"text-align: right;\">\n",
       "      <th></th>\n",
       "      <th>ID</th>\n",
       "      <th>LABEL_ID</th>\n",
       "      <th>OFFER_ID</th>\n",
       "    </tr>\n",
       "  </thead>\n",
       "  <tbody>\n",
       "    <tr>\n",
       "      <th>0</th>\n",
       "      <td>864</td>\n",
       "      <td>54</td>\n",
       "      <td>OFF0007</td>\n",
       "    </tr>\n",
       "    <tr>\n",
       "      <th>1</th>\n",
       "      <td>864</td>\n",
       "      <td>54</td>\n",
       "      <td>OFF0007</td>\n",
       "    </tr>\n",
       "    <tr>\n",
       "      <th>2</th>\n",
       "      <td>864</td>\n",
       "      <td>54</td>\n",
       "      <td>OFF0007</td>\n",
       "    </tr>\n",
       "    <tr>\n",
       "      <th>3</th>\n",
       "      <td>864</td>\n",
       "      <td>54</td>\n",
       "      <td>OFF0007</td>\n",
       "    </tr>\n",
       "    <tr>\n",
       "      <th>4</th>\n",
       "      <td>864</td>\n",
       "      <td>54</td>\n",
       "      <td>OFF0007</td>\n",
       "    </tr>\n",
       "  </tbody>\n",
       "</table>\n",
       "</div>"
      ],
      "text/plain": [
       "    ID  LABEL_ID OFFER_ID\n",
       "0  864        54  OFF0007\n",
       "1  864        54  OFF0007\n",
       "2  864        54  OFF0007\n",
       "3  864        54  OFF0007\n",
       "4  864        54  OFF0007"
      ]
     },
     "execution_count": 6,
     "metadata": {},
     "output_type": "execute_result"
    }
   ],
   "source": [
    "offertagging.head()"
   ]
  },
  {
   "cell_type": "code",
   "execution_count": 7,
   "metadata": {},
   "outputs": [
    {
     "name": "stdout",
     "output_type": "stream",
     "text": [
      "Starting likes info\n",
      "Number of users: 310\n",
      "Number of models: 214\n",
      "Sparsity: 4.702%\n",
      "Ending likes info\n",
      "Number of users: 310\n",
      "Number of models: 214\n",
      "Sparsity: 4.702%\n",
      "offer_rating pickle Done!\n",
      "user_sparse pickle Done!\n",
      "offer_mapping pickle Done!\n",
      "tag_mapping pickle Done!\n"
     ]
    }
   ],
   "source": [
    "rating_table = model.fit(usertagging,offertagging)"
   ]
  },
  {
   "cell_type": "code",
   "execution_count": 8,
   "metadata": {
    "collapsed": true
   },
   "outputs": [],
   "source": [
    "import redis\n",
    "import json"
   ]
  },
  {
   "cell_type": "code",
   "execution_count": 9,
   "metadata": {
    "collapsed": true
   },
   "outputs": [],
   "source": [
    "redis_conn = redis.Redis(host='localhost',port=6379,db=0)"
   ]
  },
  {
   "cell_type": "code",
   "execution_count": 10,
   "metadata": {},
   "outputs": [],
   "source": [
    "test = model.predict(json.loads(redis_conn.get(1)))"
   ]
  },
  {
   "cell_type": "code",
   "execution_count": 11,
   "metadata": {
    "collapsed": true
   },
   "outputs": [],
   "source": [
    "offerdata = offertagging[['LABEL_ID','OFFER_ID']].drop_duplicates().reset_index(drop=True)"
   ]
  },
  {
   "cell_type": "code",
   "execution_count": 25,
   "metadata": {
    "collapsed": true
   },
   "outputs": [],
   "source": [
    "offerdata['IND'] = 1"
   ]
  },
  {
   "cell_type": "code",
   "execution_count": 28,
   "metadata": {},
   "outputs": [],
   "source": [
    "offerdata = offerdata.pivot_table(index='OFFER_ID',columns='LABEL_ID',values='IND').fillna(0)"
   ]
  },
  {
   "cell_type": "code",
   "execution_count": 12,
   "metadata": {
    "collapsed": true
   },
   "outputs": [],
   "source": [
    "offer = offertagging.OFFER_ID.unique()"
   ]
  },
  {
   "cell_type": "code",
   "execution_count": 34,
   "metadata": {},
   "outputs": [
    {
     "data": {
      "text/plain": [
       "array([116,  83, 201, 115, 123,  53,  92, 182, 184,  41,  88, 173,  47,\n",
       "        46, 199])"
      ]
     },
     "execution_count": 34,
     "metadata": {},
     "output_type": "execute_result"
    }
   ],
   "source": [
    "np.array(test)*214/250"
   ]
  },
  {
   "cell_type": "code",
   "execution_count": 39,
   "metadata": {},
   "outputs": [],
   "source": [
    "tagging_table = np.zeros(214)\n",
    "for i in np.array(test)*214/250:\n",
    "    tagging_table[i] = 1"
   ]
  },
  {
   "cell_type": "code",
   "execution_count": 35,
   "metadata": {
    "collapsed": true
   },
   "outputs": [],
   "source": [
    "from sklearn.metrics import pairwise"
   ]
  },
  {
   "cell_type": "code",
   "execution_count": 41,
   "metadata": {},
   "outputs": [
    {
     "data": {
      "text/plain": [
       "array([[ 0.18257419,  0.23094011,  0.25819889,  0.25819889,  0.08164966,\n",
       "         0.09128709,  0.19518001,  0.07784989,  0.0745356 ,  0.09128709,\n",
       "         0.10540926,  0.        ,  0.09128709,  0.        ,  0.        ,\n",
       "         0.        ,  0.11547005,  0.        ,  0.        ,  0.        ,\n",
       "         0.        ,  0.        ,  0.29277002,  0.31622777,  0.27386128,\n",
       "         0.        ,  0.        ,  0.07161149,  0.        ,  0.09128709,\n",
       "         0.07784989,  0.        ,  0.09759001,  0.        ,  0.        ,\n",
       "         0.09759001,  0.        ,  0.07161149,  0.07161149]])"
      ]
     },
     "execution_count": 41,
     "metadata": {},
     "output_type": "execute_result"
    }
   ],
   "source": [
    "pairwise.cosine_similarity(tagging_table.reshape(1,-1), offerdata.values)"
   ]
  },
  {
   "cell_type": "code",
   "execution_count": null,
   "metadata": {
    "collapsed": true
   },
   "outputs": [],
   "source": []
  }
 ],
 "metadata": {
  "kernelspec": {
   "display_name": "Python 2",
   "language": "python",
   "name": "python2"
  },
  "language_info": {
   "codemirror_mode": {
    "name": "ipython",
    "version": 2
   },
   "file_extension": ".py",
   "mimetype": "text/x-python",
   "name": "python",
   "nbconvert_exporter": "python",
   "pygments_lexer": "ipython2",
   "version": "2.7.13"
  }
 },
 "nbformat": 4,
 "nbformat_minor": 2
}
